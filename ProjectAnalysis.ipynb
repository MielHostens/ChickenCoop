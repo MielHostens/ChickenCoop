{
  "cells": [
    {
      "cell_type": "markdown",
      "metadata": {
        "id": "view-in-github",
        "colab_type": "text"
      },
      "source": [
        "<a href=\"https://colab.research.google.com/github/MielHostens/ChickenCoop/blob/main/ProjectAnalysis.ipynb\" target=\"_parent\"><img src=\"https://colab.research.google.com/assets/colab-badge.svg\" alt=\"Open In Colab\"/></a>"
      ]
    },
    {
      "cell_type": "code",
      "execution_count": null,
      "metadata": {
        "colab": {
          "base_uri": "https://localhost:8080/"
        },
        "id": "Goyfubyq8Pd-",
        "outputId": "e22cf12c-4692-46f7-9939-f72aaf4d824b"
      },
      "outputs": [
        {
          "output_type": "stream",
          "name": "stdout",
          "text": [
            "Mounted at /content/drive\n"
          ]
        }
      ],
      "source": [
        "from google.colab import drive\n",
        "drive.mount('/content/drive')"
      ]
    },
    {
      "cell_type": "markdown",
      "metadata": {
        "id": "ImhMe8YDmYLM"
      },
      "source": [
        "# Install R and connect to be able to use R magic cells"
      ]
    },
    {
      "cell_type": "code",
      "execution_count": null,
      "metadata": {
        "colab": {
          "base_uri": "https://localhost:8080/"
        },
        "id": "RLr1P9Fd6NcW",
        "outputId": "ff16c407-b14b-45a5-9925-c2f05dbfdd46"
      },
      "outputs": [
        {
          "output_type": "stream",
          "name": "stdout",
          "text": [
            "Found existing installation: rpy2 3.4.2\n",
            "Uninstalling rpy2-3.4.2:\n",
            "  Successfully uninstalled rpy2-3.4.2\n",
            "Collecting rpy2==3.5.1\n",
            "  Downloading rpy2-3.5.1.tar.gz (201 kB)\n",
            "\u001b[2K     \u001b[90m━━━━━━━━━━━━━━━━━━━━━━━━━━━━━━━━━━━━━━━━\u001b[0m \u001b[32m201.7/201.7 kB\u001b[0m \u001b[31m2.7 MB/s\u001b[0m eta \u001b[36m0:00:00\u001b[0m\n",
            "\u001b[?25h  Preparing metadata (setup.py) ... \u001b[?25l\u001b[?25hdone\n",
            "Requirement already satisfied: cffi>=1.10.0 in /usr/local/lib/python3.10/dist-packages (from rpy2==3.5.1) (1.16.0)\n",
            "Requirement already satisfied: jinja2 in /usr/local/lib/python3.10/dist-packages (from rpy2==3.5.1) (3.1.2)\n",
            "Requirement already satisfied: pytz in /usr/local/lib/python3.10/dist-packages (from rpy2==3.5.1) (2023.3.post1)\n",
            "Requirement already satisfied: tzlocal in /usr/local/lib/python3.10/dist-packages (from rpy2==3.5.1) (5.2)\n",
            "Requirement already satisfied: pycparser in /usr/local/lib/python3.10/dist-packages (from cffi>=1.10.0->rpy2==3.5.1) (2.21)\n",
            "Requirement already satisfied: MarkupSafe>=2.0 in /usr/local/lib/python3.10/dist-packages (from jinja2->rpy2==3.5.1) (2.1.3)\n",
            "Building wheels for collected packages: rpy2\n",
            "  Building wheel for rpy2 (setup.py) ... \u001b[?25l\u001b[?25hdone\n",
            "  Created wheel for rpy2: filename=rpy2-3.5.1-cp310-cp310-linux_x86_64.whl size=314934 sha256=6bf901bf46d8c674902e628b513f83548b6d265a963170e906d40ea7f50cd96e\n",
            "  Stored in directory: /root/.cache/pip/wheels/73/a6/ff/4e75dd1ce1cfa2b9a670cbccf6a1e41c553199e9b25f05d953\n",
            "Successfully built rpy2\n",
            "Installing collected packages: rpy2\n",
            "Successfully installed rpy2-3.5.1\n"
          ]
        }
      ],
      "source": [
        "!pip uninstall rpy2 -y\n",
        "!pip install rpy2==3.5.1"
      ]
    },
    {
      "cell_type": "code",
      "execution_count": null,
      "metadata": {
        "id": "j8iqMFFK200g"
      },
      "outputs": [],
      "source": [
        "%load_ext rpy2.ipython"
      ]
    },
    {
      "cell_type": "markdown",
      "metadata": {
        "id": "vyfrgLxLM8Rh"
      },
      "source": [
        "From now on you canuse the %%R in front of your code to use R in Colab.\n",
        "\n",
        "*   Make a link to the folder where to store the R libraries.\n",
        "*   Next a list of libraries is created which are needed for this project.\n",
        "*   R libraries will be installed when missing. This can take some time initially but becomes quicker after initial install."
      ]
    },
    {
      "cell_type": "code",
      "execution_count": null,
      "metadata": {
        "id": "xSPtTijf-6Wf"
      },
      "outputs": [],
      "source": [
        "%%R\n",
        "lib_loc <- \"/content/drive/Shareddrives/Digital-Agriculture/R-lib/\""
      ]
    },
    {
      "cell_type": "code",
      "execution_count": null,
      "metadata": {
        "colab": {
          "base_uri": "https://localhost:8080/"
        },
        "id": "aI1TGeHw72KP",
        "outputId": "aaaee0b5-e714-4a3b-de9b-5c849093dde7"
      },
      "outputs": [
        {
          "output_type": "stream",
          "name": "stderr",
          "text": [
            "WARNING:rpy2.rinterface_lib.callbacks:R[write to console]: \n",
            "Attaching package: ‘dplyr’\n",
            "\n",
            "\n",
            "WARNING:rpy2.rinterface_lib.callbacks:R[write to console]: The following object is masked from ‘package:ggplot2’:\n",
            "\n",
            "    vars\n",
            "\n",
            "\n",
            "WARNING:rpy2.rinterface_lib.callbacks:R[write to console]: The following objects are masked from ‘package:stats’:\n",
            "\n",
            "    filter, lag\n",
            "\n",
            "\n",
            "WARNING:rpy2.rinterface_lib.callbacks:R[write to console]: The following objects are masked from ‘package:base’:\n",
            "\n",
            "    intersect, setdiff, setequal, union\n",
            "\n",
            "\n",
            "WARNING:rpy2.rinterface_lib.callbacks:R[write to console]: \n",
            "Attaching package: ‘lubridate’\n",
            "\n",
            "\n",
            "WARNING:rpy2.rinterface_lib.callbacks:R[write to console]: The following objects are masked from ‘package:base’:\n",
            "\n",
            "    date, intersect, setdiff, union\n",
            "\n",
            "\n",
            "WARNING:rpy2.rinterface_lib.callbacks:R[write to console]: \n",
            "Attaching package: ‘Matrix’\n",
            "\n",
            "\n",
            "WARNING:rpy2.rinterface_lib.callbacks:R[write to console]: The following objects are masked from ‘package:tidyr’:\n",
            "\n",
            "    expand, pack, unpack\n",
            "\n",
            "\n",
            "WARNING:rpy2.rinterface_lib.callbacks:R[write to console]: Install package \"strengejacke\" from GitHub (`devtools::install_github(\"strengejacke/strengejacke\")`) to load all sj-packages at once!\n",
            "\n",
            "WARNING:rpy2.rinterface_lib.callbacks:R[write to console]: \n",
            "Attaching package: ‘sjmisc’\n",
            "\n",
            "\n",
            "WARNING:rpy2.rinterface_lib.callbacks:R[write to console]: The following object is masked from ‘package:tidyr’:\n",
            "\n",
            "    replace_na\n",
            "\n",
            "\n"
          ]
        },
        {
          "output_type": "stream",
          "name": "stdout",
          "text": [
            "── Attaching core tidyverse packages ──────────────────────── tidyverse 2.0.0 ──\n",
            "✔ forcats 1.0.0     ✔ tibble  3.2.1\n",
            "✔ purrr   1.0.2     \n",
            "── Conflicts ────────────────────────────────────────── tidyverse_conflicts() ──\n",
            "✖ tibble::add_case()   masks sjmisc::add_case()\n",
            "✖ Matrix::expand()     masks tidyr::expand()\n",
            "✖ dplyr::filter()      masks stats::filter()\n",
            "✖ purrr::is_empty()    masks sjmisc::is_empty()\n",
            "✖ dplyr::lag()         masks stats::lag()\n",
            "✖ Matrix::pack()       masks tidyr::pack()\n",
            "✖ sjmisc::replace_na() masks tidyr::replace_na()\n",
            "✖ Matrix::unpack()     masks tidyr::unpack()\n",
            "ℹ Use the conflicted package (<http://conflicted.r-lib.org/>) to force all conflicts to become errors\n"
          ]
        },
        {
          "output_type": "stream",
          "name": "stderr",
          "text": [
            "WARNING:rpy2.rinterface_lib.callbacks:R[write to console]: The 'lsmeans' package is now basically a front end for 'emmeans'.\n",
            "Users are encouraged to switch the rest of the way.\n",
            "See help('transition') for more information, including how to\n",
            "convert old 'lsmeans' objects and scripts to work with 'emmeans'.\n",
            "\n",
            "WARNING:rpy2.rinterface_lib.callbacks:R[write to console]: \n",
            "Attaching package: ‘MASS’\n",
            "\n",
            "\n",
            "WARNING:rpy2.rinterface_lib.callbacks:R[write to console]: The following object is masked from ‘package:dplyr’:\n",
            "\n",
            "    select\n",
            "\n",
            "\n",
            "WARNING:rpy2.rinterface_lib.callbacks:R[write to console]: \n",
            "Attaching package: ‘TH.data’\n",
            "\n",
            "\n",
            "WARNING:rpy2.rinterface_lib.callbacks:R[write to console]: The following object is masked from ‘package:MASS’:\n",
            "\n",
            "    geyser\n",
            "\n",
            "\n"
          ]
        },
        {
          "output_type": "stream",
          "name": "stdout",
          "text": [
            "[[1]]\n",
            "[1] TRUE\n",
            "\n",
            "[[2]]\n",
            "[1] TRUE\n",
            "\n",
            "[[3]]\n",
            "[1] TRUE\n",
            "\n",
            "[[4]]\n",
            "[1] TRUE\n",
            "\n",
            "[[5]]\n",
            "[1] TRUE\n",
            "\n",
            "[[6]]\n",
            "[1] TRUE\n",
            "\n",
            "[[7]]\n",
            "[1] TRUE\n",
            "\n",
            "[[8]]\n",
            "[1] TRUE\n",
            "\n",
            "[[9]]\n",
            "[1] TRUE\n",
            "\n",
            "[[10]]\n",
            "[1] FALSE\n",
            "\n",
            "[[11]]\n",
            "[1] TRUE\n",
            "\n",
            "[[12]]\n",
            "[1] TRUE\n",
            "\n",
            "[[13]]\n",
            "[1] TRUE\n",
            "\n"
          ]
        }
      ],
      "source": [
        "%%R\n",
        "# List of packages for session\n",
        ".packages = c(\n",
        "              \"ggplot2\",\n",
        "              \"dplyr\",\n",
        "              \"tidyr\",\n",
        "              \"readr\",\n",
        "              \"lubridate\",\n",
        "              \"modelr\",\n",
        "              \"lme4\",\n",
        "              \"stringr\",\n",
        "              \"sjmisc\",\n",
        "              \"tibble\",\n",
        "              \"tidyverse\",\n",
        "              \"lsmeans\",\n",
        "              \"multcomp\"\n",
        "              )\n",
        "\n",
        "# Install CRAN packages (if not already installed)\n",
        ".inst <- .packages %in% installed.packages(lib.loc=lib_loc)\n",
        "if(length(.packages[!.inst]) > 0) install.packages(.packages[!.inst], lib=lib_loc, repos = \"http://cran.us.r-project.org\")\n",
        "\n",
        "# Load packages into session\n",
        "lapply(.packages, require, character.only=TRUE, lib.loc = lib_loc, quietly = TRUE)"
      ]
    },
    {
      "cell_type": "code",
      "execution_count": null,
      "metadata": {
        "id": "W-OAzsEYVABp"
      },
      "outputs": [],
      "source": [
        " %%R\n",
        "options(dplyr.summarise.inform = FALSE)"
      ]
    },
    {
      "cell_type": "markdown",
      "metadata": {
        "id": "EVJtkPb08gsJ"
      },
      "source": [
        "# Data import"
      ]
    },
    {
      "cell_type": "markdown",
      "metadata": {
        "id": "sU_Qk0MuB1dB"
      },
      "source": [
        "https://www.rstudio.com/wp-content/uploads/2015/02/data-wrangling-cheatsheet.pdf"
      ]
    },
    {
      "cell_type": "markdown",
      "metadata": {
        "id": "IbJGxrmXQ8FW"
      },
      "source": [
        "## Animal data\n",
        "Read the data"
      ]
    },
    {
      "cell_type": "code",
      "execution_count": null,
      "metadata": {
        "colab": {
          "base_uri": "https://localhost:8080/"
        },
        "id": "RoCY030qQzt_",
        "outputId": "ed030944-7607-4e98-fb81-b33ab9f3fc6a"
      },
      "outputs": [
        {
          "output_type": "stream",
          "name": "stdout",
          "text": [
            "ℹ Using \"','\" as decimal and \"'.'\" as grouping mark. Use `read_delim()` for more control.\n"
          ]
        }
      ],
      "source": [
        "%%R\n",
        "cowdata <- readr::read_csv2(\n",
        "  file = \"/content/drive/Shareddrives/Digital-Agriculture/Data/DIER.txt\",\n",
        "  col_types = cols(\n",
        "    GEBOORTEDATUM = col_date(\"%d.%m.%Y\")\n",
        "    )\n",
        "  )"
      ]
    },
    {
      "cell_type": "markdown",
      "metadata": {
        "id": "GouunIfnQ7CO"
      },
      "source": [
        "1. select the number of columns needed\n",
        "2. apply our naming convention\n",
        "3. perform data mutations where needed"
      ]
    },
    {
      "cell_type": "code",
      "execution_count": null,
      "metadata": {
        "id": "NLnRj5zFRMo9"
      },
      "outputs": [],
      "source": [
        "%%R\n",
        "cowdatareal <- cowdata %>% dplyr::select(\n",
        "    OPBEDRIJFGEWEEST,\n",
        "    GESLACHT_CODE,\n",
        "    DIERID,\n",
        "    GEBOORTEDATUM,\n",
        "    LEVENSNRMOEDER,\n",
        "    LEVENSNRVADER,\n",
        "    GEBOORTEVERLOOP_CODE,\n",
        "    HAARKLEUR_CODE,\n",
        "    AANHOUDEN,\n",
        "    VERBLIJFPLAATS_CODE,\n",
        "    STAMBOEK,\n",
        "    OPMERKING,\n",
        "    EXCLUDED,\n",
        "    LEVENSNUMMER,\n",
        "    NAAM,\n",
        "    GROEPNUMMER,\n",
        "    BARNGROUP,\n",
        "    DIERSOORT,\n",
        "    NUM_INS,\n",
        "    LACTATIENUMMER,\n",
        "    LACTATIEWAARDE,\n",
        "    MODIFIED\n",
        "  ) %>%\n",
        "  dplyr::rename(\n",
        "    attendance = OPBEDRIJFGEWEEST,\n",
        "    sex = GESLACHT_CODE ,\n",
        "    animalid = DIERID,\n",
        "    birthdate = GEBOORTEDATUM,\n",
        "    mothernr = LEVENSNRMOEDER,\n",
        "    fathernr = LEVENSNRVADER,\n",
        "    birthprocess = GEBOORTEVERLOOP_CODE,\n",
        "    colorcode = HAARKLEUR_CODE,\n",
        "    keep = AANHOUDEN,\n",
        "    residcode = VERBLIJFPLAATS_CODE,\n",
        "    pedigree = STAMBOEK,\n",
        "    comment = OPMERKING,\n",
        "    excluded = EXCLUDED,\n",
        "    cownr = LEVENSNUMMER,\n",
        "    name =  NAAM,\n",
        "    groupnr = GROEPNUMMER,\n",
        "    barnnr = BARNGROUP,\n",
        "    species = DIERSOORT,\n",
        "    insnr = NUM_INS,\n",
        "    lacnr = LACTATIENUMMER,\n",
        "    lacvalue = LACTATIEWAARDE,\n",
        "    modified = MODIFIED\n",
        "  ) %>%\n",
        "  dplyr::mutate(\n",
        "    birthdate = as.Date(birthdate),\n",
        "    birthyear = year(birthdate),\n",
        "    birthseason = case_when(\n",
        "        month(birthdate) %in% c(12,1,2) ~ \"winter\",\n",
        "        month(birthdate) %in% c(6,7,8) ~ \"summer\",\n",
        "        month(birthdate) %in% c(3,4,5) ~ \"spring\",\n",
        "        month(birthdate) %in% c(9,10,11) ~ \"autumn\",\n",
        "        TRUE ~ \"other\"\n",
        "  )\n",
        "  )"
      ]
    },
    {
      "cell_type": "code",
      "execution_count": null,
      "metadata": {
        "id": "2GqdZ9P1R8L3"
      },
      "outputs": [],
      "source": [
        "%%R\n",
        "cowdatacompact <- cowdatareal %>%\n",
        "  dplyr::select(animalid,\n",
        "         birthdate,\n",
        "         cownr,\n",
        "         birthyear,\n",
        "         birthseason,\n",
        "         sex\n",
        "         )"
      ]
    },
    {
      "cell_type": "markdown",
      "metadata": {
        "id": "7-UhA5FgSE6m"
      },
      "source": [
        "## Animal weights"
      ]
    },
    {
      "cell_type": "code",
      "execution_count": null,
      "metadata": {
        "colab": {
          "base_uri": "https://localhost:8080/"
        },
        "id": "WbETa3qZSA9c",
        "outputId": "daac5e1e-3b98-468e-d500-72e137ee5712"
      },
      "outputs": [
        {
          "output_type": "stream",
          "name": "stdout",
          "text": [
            "ℹ Using \"','\" as decimal and \"'.'\" as grouping mark. Use `read_delim()` for more control.\n"
          ]
        }
      ],
      "source": [
        "%%R\n",
        "cowweight <- readr::read_csv2(\n",
        "  file = \"/content/drive/Shareddrives/Digital-Agriculture/Data/DIER_GEWICHT.txt\",\n",
        "  col_types = cols(\n",
        "      DATUM = col_date(\"%d.%m.%Y\")\n",
        "      )\n",
        ")"
      ]
    },
    {
      "cell_type": "code",
      "execution_count": null,
      "metadata": {
        "id": "zZ0fZp9VSryg"
      },
      "outputs": [],
      "source": [
        "%%R\n",
        "cowweightcompact <- cowweight %>%\n",
        "  rename(\n",
        "      animalid = DIERID,\n",
        "      weight = GEWICHT,\n",
        "      measuredate = DATUM\n",
        "      ) %>%\n",
        "  dplyr::select(\n",
        "      animalid,\n",
        "      weight,\n",
        "      measuredate\n",
        "      )\n"
      ]
    },
    {
      "cell_type": "markdown",
      "metadata": {
        "id": "F89UxG3TJj_o"
      },
      "source": [
        "##Reproduction"
      ]
    },
    {
      "cell_type": "code",
      "execution_count": null,
      "metadata": {
        "id": "mGb6Iy0FJm1p"
      },
      "outputs": [],
      "source": [
        "%%R\n",
        "reproduction <- read_csv(\n",
        "  file = \"/content/drive/Shareddrives/Digital-Agriculture/Data/Reproduction.csv\",\n",
        "      col_types = cols(\n",
        "      StartDate = col_date(\"%Y-%m-%d\")\n",
        "        )\n",
        ")"
      ]
    },
    {
      "cell_type": "code",
      "execution_count": null,
      "metadata": {
        "id": "uiSlAqN3JoJ3"
      },
      "outputs": [],
      "source": [
        "%%R\n",
        "reprocompact <- reproduction %>%  dplyr::select(\n",
        "  EarTag,\n",
        "  StartDate,\n",
        "  DIM,\n",
        "  Parity,\n",
        "  ReproType,\n",
        "  ResultedInPregnancy\n",
        "  ) %>%\n",
        "  dplyr::rename(\n",
        "    cownr = EarTag,\n",
        "    reprodate = StartDate,\n",
        "    dim = DIM,\n",
        "    parity = Parity,\n",
        "    reprotype = ReproType,\n",
        "    resultedinpregnancy = ResultedInPregnancy\n",
        "  )"
      ]
    },
    {
      "cell_type": "markdown",
      "metadata": {
        "id": "HnLIVRklVZgk"
      },
      "source": [
        "# Data joining"
      ]
    },
    {
      "cell_type": "markdown",
      "metadata": {
        "id": "FfAo-YmeS8AD"
      },
      "source": [
        "## Calve weights"
      ]
    },
    {
      "cell_type": "markdown",
      "metadata": {
        "id": "lpt5S3nQZJAc"
      },
      "source": [
        "De twee datasets hebben we hier samengevoegd op basis van animalid. Hierdoor kunnen we aan elk kalvergewicht de volwassen koe koppelen.\n",
        "Filters:\n",
        "- Marc aangegeven dat data vanaf 2012 betrouwbaar zijn.\n",
        "- Alleen de vrouwelijke runderen meenemen.\n",
        "- Uitschieters uit de dataset houden.\n",
        "- Alleen de koeien voor eerste lactatie op basis van leeftijd.\n",
        "\n",
        "Begingewichten:\n",
        "\n",
        "geboortegewichten zijn in deze dataset geschat. In het systeem worden ze door de veehouder geschat op 40, berekend uit de dataset liggen ze op de 29.9 kg indien we de lijn volgen. Door de schatting van de veehouder worden de berekende gewichten naar boven getrokken. Ze zijn dus niet betrouwbaar. Je zou ze eruit willen halen, echter verschuift de eerste gewicht meting voor sommige kalveren dan naar een te hoge aantal kg om een intercept te berekenen. Omdat er niet genoeg metingen zijn in de \"eerste groep\" (zie later in de beschrijving) is ook deze intercept weinig betrouwbaar (sommige kalveren hebben 1 meting na 2 weken, en dit wordt dan automatisch (met de lijn) hun geboortegewicht).\n",
        "Hierdoor laten de we geboortegewichten staan."
      ]
    },
    {
      "cell_type": "code",
      "execution_count": null,
      "metadata": {
        "id": "H0MIot8I_WRr"
      },
      "outputs": [],
      "source": [
        "%%R\n",
        "calfweights <- right_join(cowdatacompact, cowweightcompact, by = \"animalid\") %>%\n",
        "  mutate(\n",
        "    animalid = as.factor(animalid),\n",
        "    age = as.numeric(\n",
        "      difftime(\n",
        "        (measuredate),\n",
        "        (birthdate),\n",
        "        units = \"days\"\n",
        "        )\n",
        "      )\n",
        "  ) %>%\n",
        "  filter(\n",
        "      birthyear > 2011 &\n",
        "      sex == 2 &\n",
        "      weight < 1200 &\n",
        "      age < 500\n",
        "      )"
      ]
    },
    {
      "cell_type": "code",
      "execution_count": null,
      "metadata": {
        "id": "Fn60kAbmitk6"
      },
      "outputs": [],
      "source": [
        "%%R\n",
        "LME1 <- lmer(\n",
        "    weight ~ age + (1|animalid),\n",
        "    data    = calfweights)"
      ]
    },
    {
      "cell_type": "markdown",
      "metadata": {
        "id": "m42TtHp0ahmP"
      },
      "source": [
        "We hebben deze histogram gemaakt om te kijken of onze lijn zoveel mogelijk overeenkomt."
      ]
    },
    {
      "cell_type": "code",
      "execution_count": null,
      "metadata": {
        "id": "9-sI1BePaasc"
      },
      "outputs": [],
      "source": [
        "%%R\n",
        "calveweightsandresiduals <- calfweights %>% modelr::add_residuals(LME1)"
      ]
    },
    {
      "cell_type": "code",
      "execution_count": null,
      "metadata": {
        "colab": {
          "base_uri": "https://localhost:8080/",
          "height": 497
        },
        "id": "o4oQvO31jYbO",
        "outputId": "e4c07dca-2670-420e-f7be-5b7d1d0af7f6"
      },
      "outputs": [
        {
          "output_type": "display_data",
          "data": {
            "image/png": "[encoded data removed]"
          },
          "metadata": {}
        }
      ],
      "source": [
        "%%R\n",
        "hist(calveweightsandresiduals$resid, breaks = 50)"
      ]
    },
    {
      "cell_type": "markdown",
      "metadata": {
        "id": "hasa0tZIXjbw"
      },
      "source": [
        "### ADG"
      ]
    },
    {
      "cell_type": "markdown",
      "metadata": {
        "id": "hGLb40EhXvcO"
      },
      "source": [
        "#### Average all calves"
      ]
    },
    {
      "cell_type": "markdown",
      "metadata": {
        "id": "Gsv4XxssaqFM"
      },
      "source": [
        "Dit is de algemene dagelijkse groei van alle kalveren bij elkaar.\n",
        "De intercept is het gemiddelde geboortegewicht (geschat).\n"
      ]
    },
    {
      "cell_type": "code",
      "execution_count": null,
      "metadata": {
        "colab": {
          "base_uri": "https://localhost:8080/"
        },
        "id": "AWYtVl0kX3DE",
        "outputId": "f8249fdb-4466-4d0b-8d91-d43b82b80e74"
      },
      "outputs": [
        {
          "output_type": "stream",
          "name": "stdout",
          "text": [
            "\n",
            "Call:\n",
            "glm(formula = weight ~ age, data = calfweights)\n",
            "\n",
            "Coefficients:\n",
            "             Estimate Std. Error t value Pr(>|t|)    \n",
            "(Intercept) 29.991656   0.293818   102.1   <2e-16 ***\n",
            "age          0.988122   0.002129   464.2   <2e-16 ***\n",
            "---\n",
            "Signif. codes:  0 ‘***’ 0.001 ‘**’ 0.01 ‘*’ 0.05 ‘.’ 0.1 ‘ ’ 1\n",
            "\n",
            "(Dispersion parameter for gaussian family taken to be 277.7269)\n",
            "\n",
            "    Null deviance: 61351810  on 5416  degrees of freedom\n",
            "Residual deviance:  1503891  on 5415  degrees of freedom\n",
            "AIC: 45856\n",
            "\n",
            "Number of Fisher Scoring iterations: 2\n",
            "\n"
          ]
        }
      ],
      "source": [
        "%%R\n",
        "adgcalves <- glm(weight ~ age, data = calfweights)\n",
        "summary (adgcalves)\n",
        "\n"
      ]
    },
    {
      "cell_type": "markdown",
      "metadata": {
        "id": "ADDuWkHRZsSY"
      },
      "source": [
        "####Individuals"
      ]
    },
    {
      "cell_type": "markdown",
      "metadata": {
        "id": "wCEJMTwnK3Bo"
      },
      "source": [
        "Hier berekenen we de gemiddelde groei (gemiddelde adg) per individueel kalf.\n",
        "Dit is omgezet in een dataframe om er verder mee te kunnen werken."
      ]
    },
    {
      "cell_type": "code",
      "execution_count": null,
      "metadata": {
        "id": "wRifbwQsZfV3"
      },
      "outputs": [],
      "source": [
        "\n",
        "%%R\n",
        "adgcalfmodel <- glm(weight ~ 0 + animalid + age : animalid, data = calfweights)\n",
        "adgcalf <- data.frame(adgcalfmodel$coefficients)\n",
        "adgtibble <- tibble::rownames_to_column(adgcalf)\n"
      ]
    },
    {
      "cell_type": "code",
      "execution_count": null,
      "metadata": {
        "id": "B699q4cyPN6a"
      },
      "outputs": [],
      "source": [
        "%%R\n",
        "adgfilterc <- adgtibble %>% filter(str_detect(rowname, \"age\")) %>%\n",
        "  dplyr::rename(\n",
        "    animalid = rowname, adg = adgcalfmodel.coefficients\n",
        "  ) %>%\n",
        "  dplyr::mutate(\n",
        "    animalid = str_replace_all(animalid, \"animalid\", \"\"),\n",
        "    animalid = str_replace_all(animalid, \":age\", \"\"),\n",
        "    animalid = as.numeric(animalid)\n",
        "  )"
      ]
    },
    {
      "cell_type": "markdown",
      "source": [
        "#### verdeeld in *kwartielen*"
      ],
      "metadata": {
        "id": "7GPLF6jLSL3R"
      }
    },
    {
      "cell_type": "code",
      "source": [
        "%%R\n",
        "summary(adgfilterc$adg)\n"
      ],
      "metadata": {
        "colab": {
          "base_uri": "https://localhost:8080/"
        },
        "id": "_23lqGa5b62d",
        "outputId": "7d04703d-58f7-4d54-9110-c1dc4b83ff3e"
      },
      "execution_count": null,
      "outputs": [
        {
          "output_type": "stream",
          "name": "stdout",
          "text": [
            "   Min. 1st Qu.  Median    Mean 3rd Qu.    Max.    NA's \n",
            " 0.1875  0.9036  0.9884  0.9561  1.0510  1.2454     505 \n"
          ]
        }
      ]
    },
    {
      "cell_type": "code",
      "source": [
        "%%R\n",
        "adgfilterc <- adgtibble %>% filter(str_detect(rowname, \"age\")) %>%\n",
        "  dplyr::rename(\n",
        "    animalid = rowname, adg = adgcalfmodel.coefficients\n",
        "  ) %>%\n",
        "  dplyr::mutate(\n",
        "    animalid = str_replace_all(animalid, \"animalid\", \"\"),\n",
        "    animalid = str_replace_all(animalid, \":age\", \"\"),\n",
        "    animalid = as.numeric(animalid)\n",
        "  )%>%\n",
        "dplyr::mutate(\n",
        "  adggroup = case_when(\n",
        "    adg < 0.9036 ~ \"badgrowers\",\n",
        "    adg >= 0.9036 | adg <= 1.0510 ~ \"middlegrowers\",\n",
        "    adg > 1.0510 ~ \"bestgrowers\",\n",
        "    TRUE ~ \"other\"\n",
        "  )\n",
        ")"
      ],
      "metadata": {
        "id": "KThehumXdFPf"
      },
      "execution_count": null,
      "outputs": []
    },
    {
      "cell_type": "code",
      "source": [
        "%%R\n",
        "boxplot(adgfilterc$adg)"
      ],
      "metadata": {
        "colab": {
          "base_uri": "https://localhost:8080/",
          "height": 497
        },
        "id": "tqdYmXAgb8vt",
        "outputId": "2602eba7-0b73-429e-e3ed-381966fc0154"
      },
      "execution_count": null,
      "outputs": [
        {
          "output_type": "display_data",
          "data": {
            "image/png": "[encoded data removed]"
          },
          "metadata": {}
        }
      ]
    },
    {
      "cell_type": "markdown",
      "metadata": {
        "id": "G9SS0iEn4NFL"
      },
      "source": [
        "####Season"
      ]
    },
    {
      "cell_type": "code",
      "execution_count": null,
      "metadata": {
        "id": "_RiMKEU4eZGg"
      },
      "outputs": [],
      "source": [
        "%%R\n",
        "adgseason <- adgfilterc %>%\n",
        "  dplyr::inner_join(\n",
        "      cowdatacompact,\n",
        "      by = \"animalid\"\n",
        "  )"
      ]
    },
    {
      "cell_type": "code",
      "execution_count": null,
      "metadata": {
        "colab": {
          "base_uri": "https://localhost:8080/",
          "height": 423
        },
        "id": "phS9sirpfHV3",
        "outputId": "e5220012-6afa-488c-c82e-af02d0bc88ec"
      },
      "outputs": [
        {
          "output_type": "display_data",
          "data": {
            "text/plain": [
              "          animalid       adg    adggroup  birthdate         cownr  birthyear  \\\n",
              "1    -2.147480e+09  0.565635  badgrowers    15344.0  NL 930670973     2012.0   \n",
              "2    -2.147480e+09  0.799174  badgrowers    15351.0  NL 930670980     2012.0   \n",
              "3    -2.147480e+09  0.592764  badgrowers    15354.0  NL 930670997     2012.0   \n",
              "4    -2.147480e+09  0.823055  badgrowers    15356.0  NL 930671008     2012.0   \n",
              "5    -2.147480e+09  0.784960  badgrowers    15358.0  NL 930671015     2012.0   \n",
              "...            ...       ...         ...        ...           ...        ...   \n",
              "1435 -2.147476e+09       NaN       other    19674.0  NL 746884227     2023.0   \n",
              "1436 -2.147476e+09       NaN       other    19675.0  NL 746884234     2023.0   \n",
              "1437 -2.147476e+09       NaN       other    19678.0  NL 624706955     2023.0   \n",
              "1438 -2.147476e+09       NaN       other    19678.0  NL 746884241     2023.0   \n",
              "1439 -2.147476e+09       NaN       other    19681.0  NL 746884258     2023.0   \n",
              "\n",
              "     birthseason  sex  \n",
              "1         winter  2.0  \n",
              "2         winter  2.0  \n",
              "3         winter  2.0  \n",
              "4         winter  2.0  \n",
              "5         winter  2.0  \n",
              "...          ...  ...  \n",
              "1435      autumn  2.0  \n",
              "1436      autumn  2.0  \n",
              "1437      autumn  2.0  \n",
              "1438      autumn  2.0  \n",
              "1439      autumn  2.0  \n",
              "\n",
              "[1439 rows x 8 columns]"
            ],
            "text/html": [
              "\n",
              "  <div id=\"df-d45a77ab-a936-4d8a-a98c-08e4e938b358\" class=\"colab-df-container\">\n",
              "    <div>\n",
              "<style scoped>\n",
              "    .dataframe tbody tr th:only-of-type {\n",
              "        vertical-align: middle;\n",
              "    }\n",
              "\n",
              "    .dataframe tbody tr th {\n",
              "        vertical-align: top;\n",
              "    }\n",
              "\n",
              "    .dataframe thead th {\n",
              "        text-align: right;\n",
              "    }\n",
              "</style>\n",
              "<table border=\"1\" class=\"dataframe\">\n",
              "  <thead>\n",
              "    <tr style=\"text-align: right;\">\n",
              "      <th></th>\n",
              "      <th>animalid</th>\n",
              "      <th>adg</th>\n",
              "      <th>adggroup</th>\n",
              "      <th>birthdate</th>\n",
              "      <th>cownr</th>\n",
              "      <th>birthyear</th>\n",
              "      <th>birthseason</th>\n",
              "      <th>sex</th>\n",
              "    </tr>\n",
              "  </thead>\n",
              "  <tbody>\n",
              "    <tr>\n",
              "      <th>1</th>\n",
              "      <td>-2.147480e+09</td>\n",
              "      <td>0.565635</td>\n",
              "      <td>badgrowers</td>\n",
              "      <td>15344.0</td>\n",
              "      <td>NL 930670973</td>\n",
              "      <td>2012.0</td>\n",
              "      <td>winter</td>\n",
              "      <td>2.0</td>\n",
              "    </tr>\n",
              "    <tr>\n",
              "      <th>2</th>\n",
              "      <td>-2.147480e+09</td>\n",
              "      <td>0.799174</td>\n",
              "      <td>badgrowers</td>\n",
              "      <td>15351.0</td>\n",
              "      <td>NL 930670980</td>\n",
              "      <td>2012.0</td>\n",
              "      <td>winter</td>\n",
              "      <td>2.0</td>\n",
              "    </tr>\n",
              "    <tr>\n",
              "      <th>3</th>\n",
              "      <td>-2.147480e+09</td>\n",
              "      <td>0.592764</td>\n",
              "      <td>badgrowers</td>\n",
              "      <td>15354.0</td>\n",
              "      <td>NL 930670997</td>\n",
              "      <td>2012.0</td>\n",
              "      <td>winter</td>\n",
              "      <td>2.0</td>\n",
              "    </tr>\n",
              "    <tr>\n",
              "      <th>4</th>\n",
              "      <td>-2.147480e+09</td>\n",
              "      <td>0.823055</td>\n",
              "      <td>badgrowers</td>\n",
              "      <td>15356.0</td>\n",
              "      <td>NL 930671008</td>\n",
              "      <td>2012.0</td>\n",
              "      <td>winter</td>\n",
              "      <td>2.0</td>\n",
              "    </tr>\n",
              "    <tr>\n",
              "      <th>5</th>\n",
              "      <td>-2.147480e+09</td>\n",
              "      <td>0.784960</td>\n",
              "      <td>badgrowers</td>\n",
              "      <td>15358.0</td>\n",
              "      <td>NL 930671015</td>\n",
              "      <td>2012.0</td>\n",
              "      <td>winter</td>\n",
              "      <td>2.0</td>\n",
              "    </tr>\n",
              "    <tr>\n",
              "      <th>...</th>\n",
              "      <td>...</td>\n",
              "      <td>...</td>\n",
              "      <td>...</td>\n",
              "      <td>...</td>\n",
              "      <td>...</td>\n",
              "      <td>...</td>\n",
              "      <td>...</td>\n",
              "      <td>...</td>\n",
              "    </tr>\n",
              "    <tr>\n",
              "      <th>1435</th>\n",
              "      <td>-2.147476e+09</td>\n",
              "      <td>NaN</td>\n",
              "      <td>other</td>\n",
              "      <td>19674.0</td>\n",
              "      <td>NL 746884227</td>\n",
              "      <td>2023.0</td>\n",
              "      <td>autumn</td>\n",
              "      <td>2.0</td>\n",
              "    </tr>\n",
              "    <tr>\n",
              "      <th>1436</th>\n",
              "      <td>-2.147476e+09</td>\n",
              "      <td>NaN</td>\n",
              "      <td>other</td>\n",
              "      <td>19675.0</td>\n",
              "      <td>NL 746884234</td>\n",
              "      <td>2023.0</td>\n",
              "      <td>autumn</td>\n",
              "      <td>2.0</td>\n",
              "    </tr>\n",
              "    <tr>\n",
              "      <th>1437</th>\n",
              "      <td>-2.147476e+09</td>\n",
              "      <td>NaN</td>\n",
              "      <td>other</td>\n",
              "      <td>19678.0</td>\n",
              "      <td>NL 624706955</td>\n",
              "      <td>2023.0</td>\n",
              "      <td>autumn</td>\n",
              "      <td>2.0</td>\n",
              "    </tr>\n",
              "    <tr>\n",
              "      <th>1438</th>\n",
              "      <td>-2.147476e+09</td>\n",
              "      <td>NaN</td>\n",
              "      <td>other</td>\n",
              "      <td>19678.0</td>\n",
              "      <td>NL 746884241</td>\n",
              "      <td>2023.0</td>\n",
              "      <td>autumn</td>\n",
              "      <td>2.0</td>\n",
              "    </tr>\n",
              "    <tr>\n",
              "      <th>1439</th>\n",
              "      <td>-2.147476e+09</td>\n",
              "      <td>NaN</td>\n",
              "      <td>other</td>\n",
              "      <td>19681.0</td>\n",
              "      <td>NL 746884258</td>\n",
              "      <td>2023.0</td>\n",
              "      <td>autumn</td>\n",
              "      <td>2.0</td>\n",
              "    </tr>\n",
              "  </tbody>\n",
              "</table>\n",
              "<p>1439 rows × 8 columns</p>\n",
              "</div>\n",
              "    <div class=\"colab-df-buttons\">\n",
              "\n",
              "  <div class=\"colab-df-container\">\n",
              "    <button class=\"colab-df-convert\" onclick=\"convertToInteractive('df-d45a77ab-a936-4d8a-a98c-08e4e938b358')\"\n",
              "            title=\"Convert this dataframe to an interactive table.\"\n",
              "            style=\"display:none;\">\n",
              "\n",
              "  <svg xmlns=\"http://www.w3.org/2000/svg\" height=\"24px\" viewBox=\"0 -960 960 960\">\n",
              "    <path d=\"M120-120v-720h720v720H120Zm60-500h600v-160H180v160Zm220 220h160v-160H400v160Zm0 220h160v-160H400v160ZM180-400h160v-160H180v160Zm440 0h160v-160H620v160ZM180-180h160v-160H180v160Zm440 0h160v-160H620v160Z\"/>\n",
              "  </svg>\n",
              "    </button>\n",
              "\n",
              "  <style>\n",
              "    .colab-df-container {\n",
              "      display:flex;\n",
              "      gap: 12px;\n",
              "    }\n",
              "\n",
              "    .colab-df-convert {\n",
              "      background-color: #E8F0FE;\n",
              "      border: none;\n",
              "      border-radius: 50%;\n",
              "      cursor: pointer;\n",
              "      display: none;\n",
              "      fill: #1967D2;\n",
              "      height: 32px;\n",
              "      padding: 0 0 0 0;\n",
              "      width: 32px;\n",
              "    }\n",
              "\n",
              "    .colab-df-convert:hover {\n",
              "      background-color: #E2EBFA;\n",
              "      box-shadow: 0px 1px 2px rgba(60, 64, 67, 0.3), 0px 1px 3px 1px rgba(60, 64, 67, 0.15);\n",
              "      fill: #174EA6;\n",
              "    }\n",
              "\n",
              "    .colab-df-buttons div {\n",
              "      margin-bottom: 4px;\n",
              "    }\n",
              "\n",
              "    [theme=dark] .colab-df-convert {\n",
              "      background-color: #3B4455;\n",
              "      fill: #D2E3FC;\n",
              "    }\n",
              "\n",
              "    [theme=dark] .colab-df-convert:hover {\n",
              "      background-color: #434B5C;\n",
              "      box-shadow: 0px 1px 3px 1px rgba(0, 0, 0, 0.15);\n",
              "      filter: drop-shadow(0px 1px 2px rgba(0, 0, 0, 0.3));\n",
              "      fill: #FFFFFF;\n",
              "    }\n",
              "  </style>\n",
              "\n",
              "    <script>\n",
              "      const buttonEl =\n",
              "        document.querySelector('#df-d45a77ab-a936-4d8a-a98c-08e4e938b358 button.colab-df-convert');\n",
              "      buttonEl.style.display =\n",
              "        google.colab.kernel.accessAllowed ? 'block' : 'none';\n",
              "\n",
              "      async function convertToInteractive(key) {\n",
              "        const element = document.querySelector('#df-d45a77ab-a936-4d8a-a98c-08e4e938b358');\n",
              "        const dataTable =\n",
              "          await google.colab.kernel.invokeFunction('convertToInteractive',\n",
              "                                                    [key], {});\n",
              "        if (!dataTable) return;\n",
              "\n",
              "        const docLinkHtml = 'Like what you see? Visit the ' +\n",
              "          '<a target=\"_blank\" href=https://colab.research.google.com/notebooks/data_table.ipynb>data table notebook</a>'\n",
              "          + ' to learn more about interactive tables.';\n",
              "        element.innerHTML = '';\n",
              "        dataTable['output_type'] = 'display_data';\n",
              "        await google.colab.output.renderOutput(dataTable, element);\n",
              "        const docLink = document.createElement('div');\n",
              "        docLink.innerHTML = docLinkHtml;\n",
              "        element.appendChild(docLink);\n",
              "      }\n",
              "    </script>\n",
              "  </div>\n",
              "\n",
              "\n",
              "<div id=\"df-3fbb3b7e-163a-464f-a1b3-d626d9022add\">\n",
              "  <button class=\"colab-df-quickchart\" onclick=\"quickchart('df-3fbb3b7e-163a-464f-a1b3-d626d9022add')\"\n",
              "            title=\"Suggest charts\"\n",
              "            style=\"display:none;\">\n",
              "\n",
              "<svg xmlns=\"http://www.w3.org/2000/svg\" height=\"24px\"viewBox=\"0 0 24 24\"\n",
              "     width=\"24px\">\n",
              "    <g>\n",
              "        <path d=\"M19 3H5c-1.1 0-2 .9-2 2v14c0 1.1.9 2 2 2h14c1.1 0 2-.9 2-2V5c0-1.1-.9-2-2-2zM9 17H7v-7h2v7zm4 0h-2V7h2v10zm4 0h-2v-4h2v4z\"/>\n",
              "    </g>\n",
              "</svg>\n",
              "  </button>\n",
              "\n",
              "<style>\n",
              "  .colab-df-quickchart {\n",
              "      --bg-color: #E8F0FE;\n",
              "      --fill-color: #1967D2;\n",
              "      --hover-bg-color: #E2EBFA;\n",
              "      --hover-fill-color: #174EA6;\n",
              "      --disabled-fill-color: #AAA;\n",
              "      --disabled-bg-color: #DDD;\n",
              "  }\n",
              "\n",
              "  [theme=dark] .colab-df-quickchart {\n",
              "      --bg-color: #3B4455;\n",
              "      --fill-color: #D2E3FC;\n",
              "      --hover-bg-color: #434B5C;\n",
              "      --hover-fill-color: #FFFFFF;\n",
              "      --disabled-bg-color: #3B4455;\n",
              "      --disabled-fill-color: #666;\n",
              "  }\n",
              "\n",
              "  .colab-df-quickchart {\n",
              "    background-color: var(--bg-color);\n",
              "    border: none;\n",
              "    border-radius: 50%;\n",
              "    cursor: pointer;\n",
              "    display: none;\n",
              "    fill: var(--fill-color);\n",
              "    height: 32px;\n",
              "    padding: 0;\n",
              "    width: 32px;\n",
              "  }\n",
              "\n",
              "  .colab-df-quickchart:hover {\n",
              "    background-color: var(--hover-bg-color);\n",
              "    box-shadow: 0 1px 2px rgba(60, 64, 67, 0.3), 0 1px 3px 1px rgba(60, 64, 67, 0.15);\n",
              "    fill: var(--button-hover-fill-color);\n",
              "  }\n",
              "\n",
              "  .colab-df-quickchart-complete:disabled,\n",
              "  .colab-df-quickchart-complete:disabled:hover {\n",
              "    background-color: var(--disabled-bg-color);\n",
              "    fill: var(--disabled-fill-color);\n",
              "    box-shadow: none;\n",
              "  }\n",
              "\n",
              "  .colab-df-spinner {\n",
              "    border: 2px solid var(--fill-color);\n",
              "    border-color: transparent;\n",
              "    border-bottom-color: var(--fill-color);\n",
              "    animation:\n",
              "      spin 1s steps(1) infinite;\n",
              "  }\n",
              "\n",
              "  @keyframes spin {\n",
              "    0% {\n",
              "      border-color: transparent;\n",
              "      border-bottom-color: var(--fill-color);\n",
              "      border-left-color: var(--fill-color);\n",
              "    }\n",
              "    20% {\n",
              "      border-color: transparent;\n",
              "      border-left-color: var(--fill-color);\n",
              "      border-top-color: var(--fill-color);\n",
              "    }\n",
              "    30% {\n",
              "      border-color: transparent;\n",
              "      border-left-color: var(--fill-color);\n",
              "      border-top-color: var(--fill-color);\n",
              "      border-right-color: var(--fill-color);\n",
              "    }\n",
              "    40% {\n",
              "      border-color: transparent;\n",
              "      border-right-color: var(--fill-color);\n",
              "      border-top-color: var(--fill-color);\n",
              "    }\n",
              "    60% {\n",
              "      border-color: transparent;\n",
              "      border-right-color: var(--fill-color);\n",
              "    }\n",
              "    80% {\n",
              "      border-color: transparent;\n",
              "      border-right-color: var(--fill-color);\n",
              "      border-bottom-color: var(--fill-color);\n",
              "    }\n",
              "    90% {\n",
              "      border-color: transparent;\n",
              "      border-bottom-color: var(--fill-color);\n",
              "    }\n",
              "  }\n",
              "</style>\n",
              "\n",
              "  <script>\n",
              "    async function quickchart(key) {\n",
              "      const quickchartButtonEl =\n",
              "        document.querySelector('#' + key + ' button');\n",
              "      quickchartButtonEl.disabled = true;  // To prevent multiple clicks.\n",
              "      quickchartButtonEl.classList.add('colab-df-spinner');\n",
              "      try {\n",
              "        const charts = await google.colab.kernel.invokeFunction(\n",
              "            'suggestCharts', [key], {});\n",
              "      } catch (error) {\n",
              "        console.error('Error during call to suggestCharts:', error);\n",
              "      }\n",
              "      quickchartButtonEl.classList.remove('colab-df-spinner');\n",
              "      quickchartButtonEl.classList.add('colab-df-quickchart-complete');\n",
              "    }\n",
              "    (() => {\n",
              "      let quickchartButtonEl =\n",
              "        document.querySelector('#df-3fbb3b7e-163a-464f-a1b3-d626d9022add button');\n",
              "      quickchartButtonEl.style.display =\n",
              "        google.colab.kernel.accessAllowed ? 'block' : 'none';\n",
              "    })();\n",
              "  </script>\n",
              "</div>\n",
              "    </div>\n",
              "  </div>\n"
            ]
          },
          "metadata": {}
        }
      ],
      "source": [
        "%R -o adgseason\n",
        "display(adgseason)"
      ]
    },
    {
      "cell_type": "code",
      "execution_count": null,
      "metadata": {
        "colab": {
          "base_uri": "https://localhost:8080/"
        },
        "id": "EeUgq1uNhL5e",
        "outputId": "06e11f23-5e3f-408a-fabc-b075ddf3612f"
      },
      "outputs": [
        {
          "output_type": "stream",
          "name": "stdout",
          "text": [
            "\n",
            "Call:\n",
            "lm(formula = adg ~ 0 + birthseason, data = adgseason)\n",
            "\n",
            "Residuals:\n",
            "     Min       1Q   Median       3Q      Max \n",
            "-0.75630 -0.05233  0.03187  0.09395  0.28344 \n",
            "\n",
            "Coefficients:\n",
            "                  Estimate Std. Error t value Pr(>|t|)    \n",
            "birthseasonautumn 0.943799   0.009799   96.31   <2e-16 ***\n",
            "birthseasonspring 0.961961   0.010231   94.02   <2e-16 ***\n",
            "birthseasonsummer 0.965785   0.010621   90.93   <2e-16 ***\n",
            "birthseasonwinter 0.955017   0.009382  101.79   <2e-16 ***\n",
            "---\n",
            "Signif. codes:  0 ‘***’ 0.001 ‘**’ 0.01 ‘*’ 0.05 ‘.’ 0.1 ‘ ’ 1\n",
            "\n",
            "Residual standard error: 0.1524 on 930 degrees of freedom\n",
            "  (505 observations deleted due to missingness)\n",
            "Multiple R-squared:  0.9753,\tAdjusted R-squared:  0.9752 \n",
            "F-statistic:  9187 on 4 and 930 DF,  p-value: < 2.2e-16\n",
            "\n"
          ]
        }
      ],
      "source": [
        "%%R\n",
        "summary(lm(adg ~ 0 + birthseason, data = adgseason))"
      ]
    },
    {
      "cell_type": "code",
      "execution_count": null,
      "metadata": {
        "colab": {
          "base_uri": "https://localhost:8080/"
        },
        "id": "fIQVEZUfh3Yx",
        "outputId": "4c9e3039-72d9-4435-ae8c-b0f8bd44ec40"
      },
      "outputs": [
        {
          "output_type": "stream",
          "name": "stdout",
          "text": [
            "$lsmeans\n",
            " birthseason lsmean      SE  df lower.CL upper.CL\n",
            " autumn       0.944 0.00980 930    0.925    0.963\n",
            " spring       0.962 0.01023 930    0.942    0.982\n",
            " summer       0.966 0.01062 930    0.945    0.987\n",
            " winter       0.955 0.00938 930    0.937    0.973\n",
            "\n",
            "Confidence level used: 0.95 \n",
            "\n",
            "$contrasts\n",
            " contrast        estimate     SE  df t.ratio p.value\n",
            " autumn - spring -0.01816 0.0142 930  -1.282  0.5747\n",
            " autumn - summer -0.02199 0.0145 930  -1.521  0.4250\n",
            " autumn - winter -0.01122 0.0136 930  -0.827  0.8417\n",
            " spring - summer -0.00382 0.0147 930  -0.259  0.9939\n",
            " spring - winter  0.00694 0.0139 930   0.500  0.9590\n",
            " summer - winter  0.01077 0.0142 930   0.760  0.8724\n",
            "\n",
            "P value adjustment: tukey method for comparing a family of 4 estimates \n",
            "\n"
          ]
        }
      ],
      "source": [
        "%%R\n",
        "lsmeans(lm(adg ~ birthseason, data = adgseason),\n",
        "        pairwise ~ birthseason)"
      ]
    },
    {
      "cell_type": "markdown",
      "metadata": {
        "id": "83X58JTn6McP"
      },
      "source": [
        "Question:\n",
        "Is there a difference in ADG between calves born in summer and winter?\n",
        "\n",
        "Firstly, the calves born in 2012 and up are sorted by birthseason. Winter is the months January to March, summer is June to August.\n",
        "There is no significant difference between the adg form calves born in summer and calves born in winter. The difference in ADG is 0.01 which means there is a difference of 10 grams a day."
      ]
    },
    {
      "cell_type": "markdown",
      "source": [
        "##### Cold winter\n",
        "*cursieve tekst*"
      ],
      "metadata": {
        "id": "C7vUERCvI8y_"
      }
    },
    {
      "cell_type": "code",
      "source": [
        "%%R\n",
        "adgseasoncold <- adgfilterc %>%\n",
        "  dplyr::inner_join(\n",
        "      cowdatacompact,\n",
        "      by = \"animalid\"\n",
        "  ) %>%\n",
        "  dplyr::filter(\n",
        "      birthyear == c(2012, 2013)\n",
        "      )"
      ],
      "metadata": {
        "id": "FmcrYPDqI_uL"
      },
      "execution_count": null,
      "outputs": []
    },
    {
      "cell_type": "code",
      "source": [
        "%%R\n",
        "summary(lm(adg ~ 0 + birthseason, data = adgseasoncold))"
      ],
      "metadata": {
        "colab": {
          "base_uri": "https://localhost:8080/"
        },
        "id": "VhnRQHYQLd6G",
        "outputId": "c6b21699-7184-47cf-9424-e698d2646f41"
      },
      "execution_count": null,
      "outputs": [
        {
          "output_type": "stream",
          "name": "stdout",
          "text": [
            "\n",
            "Call:\n",
            "lm(formula = adg ~ 0 + birthseason, data = adgseasoncold)\n",
            "\n",
            "Residuals:\n",
            "     Min       1Q   Median       3Q      Max \n",
            "-0.35646 -0.09414  0.00894  0.07459  0.35390 \n",
            "\n",
            "Coefficients:\n",
            "                  Estimate Std. Error t value Pr(>|t|)    \n",
            "birthseasonautumn  0.85072    0.06874  12.376 2.57e-13 ***\n",
            "birthseasonspring  0.77513    0.03969  19.531  < 2e-16 ***\n",
            "birthseasonsummer  0.78483    0.10869   7.221 4.89e-08 ***\n",
            "birthseasonwinter  0.74932    0.04437  16.887  < 2e-16 ***\n",
            "---\n",
            "Signif. codes:  0 ‘***’ 0.001 ‘**’ 0.01 ‘*’ 0.05 ‘.’ 0.1 ‘ ’ 1\n",
            "\n",
            "Residual standard error: 0.1537 on 30 degrees of freedom\n",
            "  (70 observations deleted due to missingness)\n",
            "Multiple R-squared:  0.9667,\tAdjusted R-squared:  0.9623 \n",
            "F-statistic:   218 on 4 and 30 DF,  p-value: < 2.2e-16\n",
            "\n"
          ]
        }
      ]
    },
    {
      "cell_type": "code",
      "source": [
        "%%R\n",
        "lsmeans(lm(adg ~ birthseason, data = adgseasoncold),\n",
        "        pairwise ~ birthseason)"
      ],
      "metadata": {
        "colab": {
          "base_uri": "https://localhost:8080/"
        },
        "id": "csSi8kAfL0gD",
        "outputId": "bbd234b6-ec08-47de-9fc3-44ba925af214"
      },
      "execution_count": null,
      "outputs": [
        {
          "output_type": "stream",
          "name": "stdout",
          "text": [
            "$lsmeans\n",
            " birthseason lsmean     SE df lower.CL upper.CL\n",
            " autumn       0.851 0.0687 30    0.710    0.991\n",
            " spring       0.775 0.0397 30    0.694    0.856\n",
            " summer       0.785 0.1087 30    0.563    1.007\n",
            " winter       0.749 0.0444 30    0.659    0.840\n",
            "\n",
            "Confidence level used: 0.95 \n",
            "\n",
            "$contrasts\n",
            " contrast        estimate     SE df t.ratio p.value\n",
            " autumn - spring   0.0756 0.0794 30   0.952  0.7770\n",
            " autumn - summer   0.0659 0.1286 30   0.512  0.9555\n",
            " autumn - winter   0.1014 0.0818 30   1.239  0.6074\n",
            " spring - summer  -0.0097 0.1157 30  -0.084  0.9998\n",
            " spring - winter   0.0258 0.0595 30   0.434  0.9722\n",
            " summer - winter   0.0355 0.1174 30   0.302  0.9902\n",
            "\n",
            "P value adjustment: tukey method for comparing a family of 4 estimates \n",
            "\n"
          ]
        }
      ]
    },
    {
      "cell_type": "markdown",
      "metadata": {
        "id": "YA2Xx6QghQwC"
      },
      "source": [
        "**Vragen**\n",
        "- zomer en winter groei --> done\n",
        "- wat zijn goed groeiende kalveren (quantilen)\n",
        "- zieke kalf groei inhalen (haalbaar?)\n",
        "- wanneer insemineren, obv groei gewicht (drachtpercentage, inseminatiedatum en reseltaat van de dracht, aantal inseminaties)\n"
      ]
    },
    {
      "cell_type": "markdown",
      "metadata": {
        "id": "_qDDtx4HToiU"
      },
      "source": [
        "### Visuals\n"
      ]
    },
    {
      "cell_type": "markdown",
      "metadata": {
        "id": "NL_WOSkLUq0a"
      },
      "source": [
        "#### Create visuals using ggplot2"
      ]
    },
    {
      "cell_type": "markdown",
      "metadata": {
        "id": "hkRI38xJbTPv"
      },
      "source": [
        "Hier is te zien dat er in de kalveren 3 groepen zijn die een afzonderlijke richtingscoëfficient hebben voor groei. De adg lijkt in de 3e groep hoger dan in de eerste groep, wat zou kunnen betekenen dat de groei sneller gaat in de latere groep.\n",
        "\n",
        "**vraag voor project**\n",
        "we werken nu met 1 coëfficient, kan gekeken worden of het verschil maakt om met de 3 afzonderlijke coëfficienten te werken."
      ]
    },
    {
      "cell_type": "code",
      "execution_count": null,
      "metadata": {
        "id": "qigIKOfhTlsc",
        "colab": {
          "base_uri": "https://localhost:8080/",
          "height": 497
        },
        "outputId": "a2146044-2c35-43c5-d67b-8efc72659878"
      },
      "outputs": [
        {
          "output_type": "display_data",
          "data": {
            "image/png": "[encoded data removed]"
          },
          "metadata": {}
        }
      ],
      "source": [
        "%%R\n",
        "calfweights %>% ggplot(aes(x = age, y = weight)) + geom_point()"
      ]
    },
    {
      "cell_type": "markdown",
      "metadata": {
        "id": "M3pyLCqyUS8z"
      },
      "source": [
        "#### Create visuals using matplotlib after passing the R dataframe to python"
      ]
    },
    {
      "cell_type": "markdown",
      "metadata": {
        "id": "1WXgfHTccAyn"
      },
      "source": [
        "dataframe"
      ]
    },
    {
      "cell_type": "code",
      "execution_count": null,
      "metadata": {
        "id": "i_E3RLVTT8eG",
        "colab": {
          "base_uri": "https://localhost:8080/",
          "height": 423
        },
        "outputId": "fbe733e0-6b85-4442-db44-ef809007cbcc"
      },
      "outputs": [
        {
          "output_type": "display_data",
          "data": {
            "text/plain": [
              "      animalid  birthdate         cownr  birthyear birthseason  sex  weight  \\\n",
              "1          490    15344.0  NL 930670973     2012.0      winter  2.0    40.0   \n",
              "2          490    15344.0  NL 930670973     2012.0      winter  2.0    59.0   \n",
              "3          490    15344.0  NL 930670973     2012.0      winter  2.0   109.0   \n",
              "4          491    15351.0  NL 930670980     2012.0      winter  2.0    40.0   \n",
              "5          491    15351.0  NL 930670980     2012.0      winter  2.0    59.0   \n",
              "...        ...        ...           ...        ...         ...  ...     ...   \n",
              "5413      1933    19674.0  NL 746884227     2023.0      autumn  2.0    40.0   \n",
              "5414      1934    19675.0  NL 746884234     2023.0      autumn  2.0    40.0   \n",
              "5415      1935    19678.0  NL 624706955     2023.0      autumn  2.0    40.0   \n",
              "5416      1936    19678.0  NL 746884241     2023.0      autumn  2.0    40.0   \n",
              "5417      1937    19681.0  NL 746884258     2023.0      autumn  2.0    40.0   \n",
              "\n",
              "      measuredate    age  \n",
              "1         15344.0    0.0  \n",
              "2         15393.0   49.0  \n",
              "3         15468.0  124.0  \n",
              "4         15351.0    0.0  \n",
              "5         15393.0   42.0  \n",
              "...           ...    ...  \n",
              "5413      19674.0    0.0  \n",
              "5414      19675.0    0.0  \n",
              "5415      19678.0    0.0  \n",
              "5416      19678.0    0.0  \n",
              "5417      19681.0    0.0  \n",
              "\n",
              "[5417 rows x 9 columns]"
            ],
            "text/html": [
              "\n",
              "  <div id=\"df-ba415e0f-219d-49b3-8137-4728db6ed3b8\" class=\"colab-df-container\">\n",
              "    <div>\n",
              "<style scoped>\n",
              "    .dataframe tbody tr th:only-of-type {\n",
              "        vertical-align: middle;\n",
              "    }\n",
              "\n",
              "    .dataframe tbody tr th {\n",
              "        vertical-align: top;\n",
              "    }\n",
              "\n",
              "    .dataframe thead th {\n",
              "        text-align: right;\n",
              "    }\n",
              "</style>\n",
              "<table border=\"1\" class=\"dataframe\">\n",
              "  <thead>\n",
              "    <tr style=\"text-align: right;\">\n",
              "      <th></th>\n",
              "      <th>animalid</th>\n",
              "      <th>birthdate</th>\n",
              "      <th>cownr</th>\n",
              "      <th>birthyear</th>\n",
              "      <th>birthseason</th>\n",
              "      <th>sex</th>\n",
              "      <th>weight</th>\n",
              "      <th>measuredate</th>\n",
              "      <th>age</th>\n",
              "    </tr>\n",
              "  </thead>\n",
              "  <tbody>\n",
              "    <tr>\n",
              "      <th>1</th>\n",
              "      <td>490</td>\n",
              "      <td>15344.0</td>\n",
              "      <td>NL 930670973</td>\n",
              "      <td>2012.0</td>\n",
              "      <td>winter</td>\n",
              "      <td>2.0</td>\n",
              "      <td>40.0</td>\n",
              "      <td>15344.0</td>\n",
              "      <td>0.0</td>\n",
              "    </tr>\n",
              "    <tr>\n",
              "      <th>2</th>\n",
              "      <td>490</td>\n",
              "      <td>15344.0</td>\n",
              "      <td>NL 930670973</td>\n",
              "      <td>2012.0</td>\n",
              "      <td>winter</td>\n",
              "      <td>2.0</td>\n",
              "      <td>59.0</td>\n",
              "      <td>15393.0</td>\n",
              "      <td>49.0</td>\n",
              "    </tr>\n",
              "    <tr>\n",
              "      <th>3</th>\n",
              "      <td>490</td>\n",
              "      <td>15344.0</td>\n",
              "      <td>NL 930670973</td>\n",
              "      <td>2012.0</td>\n",
              "      <td>winter</td>\n",
              "      <td>2.0</td>\n",
              "      <td>109.0</td>\n",
              "      <td>15468.0</td>\n",
              "      <td>124.0</td>\n",
              "    </tr>\n",
              "    <tr>\n",
              "      <th>4</th>\n",
              "      <td>491</td>\n",
              "      <td>15351.0</td>\n",
              "      <td>NL 930670980</td>\n",
              "      <td>2012.0</td>\n",
              "      <td>winter</td>\n",
              "      <td>2.0</td>\n",
              "      <td>40.0</td>\n",
              "      <td>15351.0</td>\n",
              "      <td>0.0</td>\n",
              "    </tr>\n",
              "    <tr>\n",
              "      <th>5</th>\n",
              "      <td>491</td>\n",
              "      <td>15351.0</td>\n",
              "      <td>NL 930670980</td>\n",
              "      <td>2012.0</td>\n",
              "      <td>winter</td>\n",
              "      <td>2.0</td>\n",
              "      <td>59.0</td>\n",
              "      <td>15393.0</td>\n",
              "      <td>42.0</td>\n",
              "    </tr>\n",
              "    <tr>\n",
              "      <th>...</th>\n",
              "      <td>...</td>\n",
              "      <td>...</td>\n",
              "      <td>...</td>\n",
              "      <td>...</td>\n",
              "      <td>...</td>\n",
              "      <td>...</td>\n",
              "      <td>...</td>\n",
              "      <td>...</td>\n",
              "      <td>...</td>\n",
              "    </tr>\n",
              "    <tr>\n",
              "      <th>5413</th>\n",
              "      <td>1933</td>\n",
              "      <td>19674.0</td>\n",
              "      <td>NL 746884227</td>\n",
              "      <td>2023.0</td>\n",
              "      <td>autumn</td>\n",
              "      <td>2.0</td>\n",
              "      <td>40.0</td>\n",
              "      <td>19674.0</td>\n",
              "      <td>0.0</td>\n",
              "    </tr>\n",
              "    <tr>\n",
              "      <th>5414</th>\n",
              "      <td>1934</td>\n",
              "      <td>19675.0</td>\n",
              "      <td>NL 746884234</td>\n",
              "      <td>2023.0</td>\n",
              "      <td>autumn</td>\n",
              "      <td>2.0</td>\n",
              "      <td>40.0</td>\n",
              "      <td>19675.0</td>\n",
              "      <td>0.0</td>\n",
              "    </tr>\n",
              "    <tr>\n",
              "      <th>5415</th>\n",
              "      <td>1935</td>\n",
              "      <td>19678.0</td>\n",
              "      <td>NL 624706955</td>\n",
              "      <td>2023.0</td>\n",
              "      <td>autumn</td>\n",
              "      <td>2.0</td>\n",
              "      <td>40.0</td>\n",
              "      <td>19678.0</td>\n",
              "      <td>0.0</td>\n",
              "    </tr>\n",
              "    <tr>\n",
              "      <th>5416</th>\n",
              "      <td>1936</td>\n",
              "      <td>19678.0</td>\n",
              "      <td>NL 746884241</td>\n",
              "      <td>2023.0</td>\n",
              "      <td>autumn</td>\n",
              "      <td>2.0</td>\n",
              "      <td>40.0</td>\n",
              "      <td>19678.0</td>\n",
              "      <td>0.0</td>\n",
              "    </tr>\n",
              "    <tr>\n",
              "      <th>5417</th>\n",
              "      <td>1937</td>\n",
              "      <td>19681.0</td>\n",
              "      <td>NL 746884258</td>\n",
              "      <td>2023.0</td>\n",
              "      <td>autumn</td>\n",
              "      <td>2.0</td>\n",
              "      <td>40.0</td>\n",
              "      <td>19681.0</td>\n",
              "      <td>0.0</td>\n",
              "    </tr>\n",
              "  </tbody>\n",
              "</table>\n",
              "<p>5417 rows × 9 columns</p>\n",
              "</div>\n",
              "    <div class=\"colab-df-buttons\">\n",
              "\n",
              "  <div class=\"colab-df-container\">\n",
              "    <button class=\"colab-df-convert\" onclick=\"convertToInteractive('df-ba415e0f-219d-49b3-8137-4728db6ed3b8')\"\n",
              "            title=\"Convert this dataframe to an interactive table.\"\n",
              "            style=\"display:none;\">\n",
              "\n",
              "  <svg xmlns=\"http://www.w3.org/2000/svg\" height=\"24px\" viewBox=\"0 -960 960 960\">\n",
              "    <path d=\"M120-120v-720h720v720H120Zm60-500h600v-160H180v160Zm220 220h160v-160H400v160Zm0 220h160v-160H400v160ZM180-400h160v-160H180v160Zm440 0h160v-160H620v160ZM180-180h160v-160H180v160Zm440 0h160v-160H620v160Z\"/>\n",
              "  </svg>\n",
              "    </button>\n",
              "\n",
              "  <style>\n",
              "    .colab-df-container {\n",
              "      display:flex;\n",
              "      gap: 12px;\n",
              "    }\n",
              "\n",
              "    .colab-df-convert {\n",
              "      background-color: #E8F0FE;\n",
              "      border: none;\n",
              "      border-radius: 50%;\n",
              "      cursor: pointer;\n",
              "      display: none;\n",
              "      fill: #1967D2;\n",
              "      height: 32px;\n",
              "      padding: 0 0 0 0;\n",
              "      width: 32px;\n",
              "    }\n",
              "\n",
              "    .colab-df-convert:hover {\n",
              "      background-color: #E2EBFA;\n",
              "      box-shadow: 0px 1px 2px rgba(60, 64, 67, 0.3), 0px 1px 3px 1px rgba(60, 64, 67, 0.15);\n",
              "      fill: #174EA6;\n",
              "    }\n",
              "\n",
              "    .colab-df-buttons div {\n",
              "      margin-bottom: 4px;\n",
              "    }\n",
              "\n",
              "    [theme=dark] .colab-df-convert {\n",
              "      background-color: #3B4455;\n",
              "      fill: #D2E3FC;\n",
              "    }\n",
              "\n",
              "    [theme=dark] .colab-df-convert:hover {\n",
              "      background-color: #434B5C;\n",
              "      box-shadow: 0px 1px 3px 1px rgba(0, 0, 0, 0.15);\n",
              "      filter: drop-shadow(0px 1px 2px rgba(0, 0, 0, 0.3));\n",
              "      fill: #FFFFFF;\n",
              "    }\n",
              "  </style>\n",
              "\n",
              "    <script>\n",
              "      const buttonEl =\n",
              "        document.querySelector('#df-ba415e0f-219d-49b3-8137-4728db6ed3b8 button.colab-df-convert');\n",
              "      buttonEl.style.display =\n",
              "        google.colab.kernel.accessAllowed ? 'block' : 'none';\n",
              "\n",
              "      async function convertToInteractive(key) {\n",
              "        const element = document.querySelector('#df-ba415e0f-219d-49b3-8137-4728db6ed3b8');\n",
              "        const dataTable =\n",
              "          await google.colab.kernel.invokeFunction('convertToInteractive',\n",
              "                                                    [key], {});\n",
              "        if (!dataTable) return;\n",
              "\n",
              "        const docLinkHtml = 'Like what you see? Visit the ' +\n",
              "          '<a target=\"_blank\" href=https://colab.research.google.com/notebooks/data_table.ipynb>data table notebook</a>'\n",
              "          + ' to learn more about interactive tables.';\n",
              "        element.innerHTML = '';\n",
              "        dataTable['output_type'] = 'display_data';\n",
              "        await google.colab.output.renderOutput(dataTable, element);\n",
              "        const docLink = document.createElement('div');\n",
              "        docLink.innerHTML = docLinkHtml;\n",
              "        element.appendChild(docLink);\n",
              "      }\n",
              "    </script>\n",
              "  </div>\n",
              "\n",
              "\n",
              "<div id=\"df-2f134509-8094-45b9-ae8a-fd89ac764bdb\">\n",
              "  <button class=\"colab-df-quickchart\" onclick=\"quickchart('df-2f134509-8094-45b9-ae8a-fd89ac764bdb')\"\n",
              "            title=\"Suggest charts\"\n",
              "            style=\"display:none;\">\n",
              "\n",
              "<svg xmlns=\"http://www.w3.org/2000/svg\" height=\"24px\"viewBox=\"0 0 24 24\"\n",
              "     width=\"24px\">\n",
              "    <g>\n",
              "        <path d=\"M19 3H5c-1.1 0-2 .9-2 2v14c0 1.1.9 2 2 2h14c1.1 0 2-.9 2-2V5c0-1.1-.9-2-2-2zM9 17H7v-7h2v7zm4 0h-2V7h2v10zm4 0h-2v-4h2v4z\"/>\n",
              "    </g>\n",
              "</svg>\n",
              "  </button>\n",
              "\n",
              "<style>\n",
              "  .colab-df-quickchart {\n",
              "      --bg-color: #E8F0FE;\n",
              "      --fill-color: #1967D2;\n",
              "      --hover-bg-color: #E2EBFA;\n",
              "      --hover-fill-color: #174EA6;\n",
              "      --disabled-fill-color: #AAA;\n",
              "      --disabled-bg-color: #DDD;\n",
              "  }\n",
              "\n",
              "  [theme=dark] .colab-df-quickchart {\n",
              "      --bg-color: #3B4455;\n",
              "      --fill-color: #D2E3FC;\n",
              "      --hover-bg-color: #434B5C;\n",
              "      --hover-fill-color: #FFFFFF;\n",
              "      --disabled-bg-color: #3B4455;\n",
              "      --disabled-fill-color: #666;\n",
              "  }\n",
              "\n",
              "  .colab-df-quickchart {\n",
              "    background-color: var(--bg-color);\n",
              "    border: none;\n",
              "    border-radius: 50%;\n",
              "    cursor: pointer;\n",
              "    display: none;\n",
              "    fill: var(--fill-color);\n",
              "    height: 32px;\n",
              "    padding: 0;\n",
              "    width: 32px;\n",
              "  }\n",
              "\n",
              "  .colab-df-quickchart:hover {\n",
              "    background-color: var(--hover-bg-color);\n",
              "    box-shadow: 0 1px 2px rgba(60, 64, 67, 0.3), 0 1px 3px 1px rgba(60, 64, 67, 0.15);\n",
              "    fill: var(--button-hover-fill-color);\n",
              "  }\n",
              "\n",
              "  .colab-df-quickchart-complete:disabled,\n",
              "  .colab-df-quickchart-complete:disabled:hover {\n",
              "    background-color: var(--disabled-bg-color);\n",
              "    fill: var(--disabled-fill-color);\n",
              "    box-shadow: none;\n",
              "  }\n",
              "\n",
              "  .colab-df-spinner {\n",
              "    border: 2px solid var(--fill-color);\n",
              "    border-color: transparent;\n",
              "    border-bottom-color: var(--fill-color);\n",
              "    animation:\n",
              "      spin 1s steps(1) infinite;\n",
              "  }\n",
              "\n",
              "  @keyframes spin {\n",
              "    0% {\n",
              "      border-color: transparent;\n",
              "      border-bottom-color: var(--fill-color);\n",
              "      border-left-color: var(--fill-color);\n",
              "    }\n",
              "    20% {\n",
              "      border-color: transparent;\n",
              "      border-left-color: var(--fill-color);\n",
              "      border-top-color: var(--fill-color);\n",
              "    }\n",
              "    30% {\n",
              "      border-color: transparent;\n",
              "      border-left-color: var(--fill-color);\n",
              "      border-top-color: var(--fill-color);\n",
              "      border-right-color: var(--fill-color);\n",
              "    }\n",
              "    40% {\n",
              "      border-color: transparent;\n",
              "      border-right-color: var(--fill-color);\n",
              "      border-top-color: var(--fill-color);\n",
              "    }\n",
              "    60% {\n",
              "      border-color: transparent;\n",
              "      border-right-color: var(--fill-color);\n",
              "    }\n",
              "    80% {\n",
              "      border-color: transparent;\n",
              "      border-right-color: var(--fill-color);\n",
              "      border-bottom-color: var(--fill-color);\n",
              "    }\n",
              "    90% {\n",
              "      border-color: transparent;\n",
              "      border-bottom-color: var(--fill-color);\n",
              "    }\n",
              "  }\n",
              "</style>\n",
              "\n",
              "  <script>\n",
              "    async function quickchart(key) {\n",
              "      const quickchartButtonEl =\n",
              "        document.querySelector('#' + key + ' button');\n",
              "      quickchartButtonEl.disabled = true;  // To prevent multiple clicks.\n",
              "      quickchartButtonEl.classList.add('colab-df-spinner');\n",
              "      try {\n",
              "        const charts = await google.colab.kernel.invokeFunction(\n",
              "            'suggestCharts', [key], {});\n",
              "      } catch (error) {\n",
              "        console.error('Error during call to suggestCharts:', error);\n",
              "      }\n",
              "      quickchartButtonEl.classList.remove('colab-df-spinner');\n",
              "      quickchartButtonEl.classList.add('colab-df-quickchart-complete');\n",
              "    }\n",
              "    (() => {\n",
              "      let quickchartButtonEl =\n",
              "        document.querySelector('#df-2f134509-8094-45b9-ae8a-fd89ac764bdb button');\n",
              "      quickchartButtonEl.style.display =\n",
              "        google.colab.kernel.accessAllowed ? 'block' : 'none';\n",
              "    })();\n",
              "  </script>\n",
              "</div>\n",
              "    </div>\n",
              "  </div>\n"
            ]
          },
          "metadata": {}
        }
      ],
      "source": [
        "%R -o calfweights\n",
        "display(calfweights)"
      ]
    },
    {
      "cell_type": "code",
      "execution_count": null,
      "metadata": {
        "id": "1y10XYGVULTw",
        "colab": {
          "base_uri": "https://localhost:8080/",
          "height": 449
        },
        "outputId": "f8014190-6ae3-4641-d8c3-a6cac6d1be47"
      },
      "outputs": [
        {
          "output_type": "display_data",
          "data": {
            "text/plain": [
              "<Figure size 640x480 with 1 Axes>"
            ],
            "image/png": "[encoded data removed]"
          },
          "metadata": {}
        }
      ],
      "source": [
        "from matplotlib import pyplot as plt\n",
        "calfweights.plot(kind='scatter', x='age', y='weight', s=32, alpha=.8)\n",
        "plt.gca().spines[['top', 'right',]].set_visible(False)"
      ]
    },
    {
      "cell_type": "markdown",
      "metadata": {
        "id": "43kNTtpoT535"
      },
      "source": [
        "## Mature cow weights"
      ]
    },
    {
      "cell_type": "markdown",
      "metadata": {
        "id": "mfSK1gXWcDlY"
      },
      "source": [
        "Hier worden de cowdata en de cowweight (algemene data en de gewichten) gecombineerd. Hierbij wordt alles van cowdata \"geplakt\" op de cowweight.\n",
        "**naamgeving verkeerd??**\n",
        "Hier is het gemiddelde van de volwasen koeien berekend, dit houdt geen rekening met de lactatiecurves. Het maximale gewicht hier berekend is het maximale gewicht ooit bereikt en niet per defintie het afvoer gewicht."
      ]
    },
    {
      "cell_type": "code",
      "execution_count": null,
      "metadata": {
        "id": "bsDc28DhTHNU"
      },
      "outputs": [],
      "source": [
        "%%R\n",
        "cowmatureweights <- right_join(cowdatacompact, cowweightcompact, by = \"animalid\") %>%\n",
        "  mutate(\n",
        "    age = as.numeric(\n",
        "      difftime(\n",
        "        (measuredate),\n",
        "        (birthdate),\n",
        "        units = \"days\"\n",
        "      )\n",
        "    )\n",
        "  ) %>%\n",
        "  filter(birthyear > 2011 & sex == 2 & weight < 1200 & age > 500)"
      ]
    },
    {
      "cell_type": "code",
      "execution_count": null,
      "metadata": {
        "id": "LSyZ1e2pTIF9"
      },
      "outputs": [],
      "source": [
        "%%R\n",
        "cowmatureavgweights <- cowmatureweights %>%\n",
        "  group_by(\n",
        "    animalid,\n",
        "    cownr\n",
        "  ) %>%\n",
        "  summarise(\n",
        "    avgcowweight = mean(weight, na.rm = TRUE),\n",
        "    maxcowweight = max(weight, na.rm =  TRUE)\n",
        "\n",
        "  ) %>%\n",
        "  filter(\n",
        "    avgcowweight > 200\n",
        "  )"
      ]
    },
    {
      "cell_type": "code",
      "execution_count": null,
      "metadata": {
        "id": "9t4qpDZcTPDW",
        "colab": {
          "base_uri": "https://localhost:8080/",
          "height": 497
        },
        "outputId": "3d953022-039c-427d-fef5-dae04b0dee21"
      },
      "outputs": [
        {
          "output_type": "display_data",
          "data": {
            "image/png": "[encoded data removed]"
          },
          "metadata": {}
        }
      ],
      "source": [
        "%%R\n",
        "hist(cowmatureavgweights$avgcowweight)"
      ]
    },
    {
      "cell_type": "code",
      "execution_count": null,
      "metadata": {
        "id": "7iV3ZjvXTIEB",
        "colab": {
          "base_uri": "https://localhost:8080/",
          "height": 497
        },
        "outputId": "d49032c3-dddc-46fb-9744-4bd2bdfde955"
      },
      "outputs": [
        {
          "output_type": "display_data",
          "data": {
            "image/png": "[encoded data removed]"
          },
          "metadata": {}
        }
      ],
      "source": [
        "%%R\n",
        "hist(cowmatureavgweights$maxcowweight)"
      ]
    },
    {
      "cell_type": "markdown",
      "metadata": {
        "id": "IHPg5yNoJiwt"
      },
      "source": [
        "## Combined adgcalf vs cow"
      ]
    },
    {
      "cell_type": "markdown",
      "metadata": {
        "id": "k_2nWoxsKK34"
      },
      "source": []
    },
    {
      "cell_type": "markdown",
      "metadata": {
        "id": "wN8j0vBrc6K3"
      },
      "source": [
        "Hier hebben we de average daily gain (adg) van de individuele kalveren gecombineerd met de gemiddelde en maximale gewichten van de volwassen koeien op basis van animal id.\n",
        "Hier is er een kolom toegevoegd met de gestandaardiseerde adg. **navragen hoe dit precies werkt**\n",
        "Met zowel de algemene als de gestandaardiseerde adg zijn histogrammen gemaakt.\n",
        "vervolgens is correlatie bekeken tussen de gestandaardiseerde adg en het latere volwassen koe gewicht.\n",
        "\n",
        "R kwadraat was hier erg laag -> legt dus weinig uit. afstand van punt tot lijn is er groot, kortom variatie is erg groot.\n",
        "p waarde was kleiner dan 0.05 en is dus significant."
      ]
    },
    {
      "cell_type": "code",
      "execution_count": null,
      "metadata": {
        "id": "MQplfNXPJ6is"
      },
      "outputs": [],
      "source": [
        "%%R\n",
        "calfcowweights <- dplyr::inner_join(\n",
        "  adgfilterc,\n",
        "  cowmatureavgweights,\n",
        "  by = \"animalid\"\n",
        ") %>%\n",
        "  dplyr::mutate(\n",
        "    stdadg = scale(adg, center = TRUE, scale = FALSE)\n",
        "  )"
      ]
    },
    {
      "cell_type": "markdown",
      "metadata": {
        "id": "FbER-_Wsh7Hk"
      },
      "source": [
        "**vragen**\n",
        "- genetica koe en stier gebruik, op basis van de groei / lactatie"
      ]
    },
    {
      "cell_type": "markdown",
      "metadata": {
        "id": "XnLCZIRVLjvL"
      },
      "source": [
        "visuals"
      ]
    },
    {
      "cell_type": "markdown",
      "metadata": {
        "id": "7hIO7jwdd18e"
      },
      "source": [
        "gewone adg, gemiddelde koegewicht 530 kg, met adg van 0. per dag 1 adg 130 kg groei. Dit is onmogelijk want koe heeft nooit adg van 0."
      ]
    },
    {
      "cell_type": "code",
      "execution_count": null,
      "metadata": {
        "id": "HQoyUiNdOKF5",
        "colab": {
          "base_uri": "https://localhost:8080/",
          "height": 497
        },
        "outputId": "bdd10303-14cb-4272-a554-f194e60e3cf1"
      },
      "outputs": [
        {
          "output_type": "display_data",
          "data": {
            "image/png": "[encoded data removed]"
          },
          "metadata": {}
        }
      ],
      "source": [
        "%%R\n",
        "hist(calfcowweights$adg)"
      ]
    },
    {
      "cell_type": "markdown",
      "metadata": {
        "id": "NDukZLjseCjL"
      },
      "source": [
        "gestandaardiseerde adg. gemiddeld gewicht van 660 kg. adg gemiddeld van 0,98. per 1 adg sprong, 130 kg groei / 0,1 adg (per 100 gram groei per dag) verschil = 13 kg verschil gemiddeld gewicht.\n",
        "koeien die minder wegen dan het gemiddelde hebben een adg lager dan 0,98."
      ]
    },
    {
      "cell_type": "markdown",
      "source": [
        "!!!Gemiddelde leeftijd corrigeren met gemiddelde gewicht zodat de oudere koeien en jonge koeien met gelijke waarde meetellen!!!"
      ],
      "metadata": {
        "id": "UGCyrXsNS31f"
      }
    },
    {
      "cell_type": "code",
      "execution_count": null,
      "metadata": {
        "id": "vbaMFNifX0Ev",
        "colab": {
          "base_uri": "https://localhost:8080/",
          "height": 497
        },
        "outputId": "ae9e595f-0b72-41aa-d826-a11ac4054cd6"
      },
      "outputs": [
        {
          "output_type": "display_data",
          "data": {
            "image/png": "[encoded data removed]"
          },
          "metadata": {}
        }
      ],
      "source": [
        "%%R\n",
        "hist(calfcowweights$stdadg)"
      ]
    },
    {
      "cell_type": "markdown",
      "metadata": {
        "id": "S9ZZC9hRe5sO"
      },
      "source": [
        "R kwadraat was hier erg laag -> legt dus weinig uit. afstand van punt tot lijn is er groot, kortom variatie is erg groot. p waarde was kleiner dan 0.05 en is dus significant."
      ]
    },
    {
      "cell_type": "code",
      "execution_count": null,
      "metadata": {
        "id": "QrQWNkZ0X4F9",
        "colab": {
          "base_uri": "https://localhost:8080/"
        },
        "outputId": "490b369f-7b5b-4e74-c19f-0d8d1bf292c0"
      },
      "outputs": [
        {
          "output_type": "stream",
          "name": "stdout",
          "text": [
            "\n",
            "Call:\n",
            "lm(formula = avgcowweight ~ stdadg, data = calfcowweights)\n",
            "\n",
            "Residuals:\n",
            "     Min       1Q   Median       3Q      Max \n",
            "-226.473  -38.308    1.426   42.541  270.622 \n",
            "\n",
            "Coefficients:\n",
            "            Estimate Std. Error t value Pr(>|t|)    \n",
            "(Intercept)  659.642      2.369 278.503  < 2e-16 ***\n",
            "stdadg       130.457     21.545   6.055 2.26e-09 ***\n",
            "---\n",
            "Signif. codes:  0 ‘***’ 0.001 ‘**’ 0.01 ‘*’ 0.05 ‘.’ 0.1 ‘ ’ 1\n",
            "\n",
            "Residual standard error: 63.73 on 722 degrees of freedom\n",
            "  (95 observations deleted due to missingness)\n",
            "Multiple R-squared:  0.04833,\tAdjusted R-squared:  0.04701 \n",
            "F-statistic: 36.66 on 1 and 722 DF,  p-value: 2.258e-09\n",
            "\n"
          ]
        }
      ],
      "source": [
        "%%R\n",
        "summary(lm(avgcowweight ~ stdadg, data = calfcowweights))"
      ]
    },
    {
      "cell_type": "markdown",
      "metadata": {
        "id": "iHzZn9FwMi98"
      },
      "source": [
        "##Reproduction"
      ]
    },
    {
      "cell_type": "code",
      "execution_count": null,
      "metadata": {
        "id": "v7t_iAcxMz7j"
      },
      "outputs": [],
      "source": [
        "%%R\n",
        "birthdatecow <- cowdatacompact %>%\n",
        "  dplyr::select(cownr,birthdate)"
      ]
    },
    {
      "cell_type": "code",
      "execution_count": null,
      "metadata": {
        "id": "DBBSTClZNLpW"
      },
      "outputs": [],
      "source": [
        "%%R\n",
        "calfcowweightsrepro <- calfcowweights %>%\n",
        "  inner_join(reprocompact, by = \"cownr\") %>%\n",
        "  inner_join(birthdatecow, by = \"cownr\") %>%\n",
        "  dplyr::mutate(\n",
        "    reproage = as.numeric(\n",
        "  difftime(\n",
        "    (reprodate),\n",
        "    (birthdate),\n",
        "    units = \"days\"\n",
        "  )\n",
        "  )\n",
        "  )%>%\n",
        "  dplyr::filter(\n",
        "    reprotype == \"1\"\n",
        "  )"
      ]
    },
    {
      "cell_type": "code",
      "execution_count": null,
      "metadata": {
        "id": "UcBzq0uzNQCa"
      },
      "outputs": [],
      "source": [
        "%%R\n",
        "parity0 <- calfcowweightsrepro %>%\n",
        "  filter(parity == 0)"
      ]
    },
    {
      "cell_type": "code",
      "execution_count": null,
      "metadata": {
        "id": "txhswoRDNTjK"
      },
      "outputs": [],
      "source": [
        "%%R\n",
        "x <-table(parity0 ['cownr'])\n",
        "y <-data.frame(x)"
      ]
    },
    {
      "cell_type": "code",
      "execution_count": null,
      "metadata": {
        "id": "_RbI-gP8NZi4"
      },
      "outputs": [],
      "source": [
        "%%R\n",
        "p0 <- parity0 %>% full_join(y, by = \"cownr\")"
      ]
    },
    {
      "cell_type": "code",
      "execution_count": null,
      "metadata": {
        "id": "ItEsQM6WNsMt"
      },
      "outputs": [],
      "source": [
        "%%R\n",
        "parity1 <- calfcowweightsrepro %>%\n",
        "  filter(parity == 1)"
      ]
    },
    {
      "cell_type": "code",
      "execution_count": null,
      "metadata": {
        "id": "60xL_iusNxT7"
      },
      "outputs": [],
      "source": [
        "%%R\n",
        "a <-table(parity1 ['cownr'])\n",
        "b <-data.frame(a)"
      ]
    },
    {
      "cell_type": "code",
      "execution_count": null,
      "metadata": {
        "id": "k9J9w2odN5Wx"
      },
      "outputs": [],
      "source": [
        "%%R\n",
        "  p1 <- parity1 %>% full_join(b, by = \"cownr\")"
      ]
    },
    {
      "cell_type": "markdown",
      "source": [
        "- succesvolle eerste inseminatie\n",
        "- leeftijd eerste partus"
      ],
      "metadata": {
        "id": "ZcG2bm4tT906"
      }
    },
    {
      "cell_type": "markdown",
      "metadata": {
        "id": "c9jX8KNdhFCO"
      },
      "source": [
        "**Vragen**\n",
        "- eerste lactatiestadium -> first en last gewicht\n",
        "- gewichtsverandering tijdens eerste lactatie\n",
        "- veel afvallen effect op drachtigheids succes volgende inseminatie\n",
        "- gewichtschommel bij ziekte\n",
        "- opfok en melkziekte (of rantsoen)\n",
        "- groei van de melkkoeien met de lactatiestadium"
      ]
    },
    {
      "cell_type": "markdown",
      "metadata": {
        "id": "xXTaOWQXVJgh"
      },
      "source": [
        "# Export data"
      ]
    },
    {
      "cell_type": "code",
      "execution_count": null,
      "metadata": {
        "id": "cU0_E3JGaTsw"
      },
      "outputs": [],
      "source": [
        "%%R\n",
        "write_csv2(groupwinter, file = \"/content/drive/Shareddrives/Digital-Agriculture/Data/groupwinter.csv\")"
      ]
    },
    {
      "cell_type": "code",
      "execution_count": null,
      "metadata": {
        "id": "I4HRoL6LaKPv"
      },
      "outputs": [],
      "source": [
        "%%R\n",
        "write_csv2(groupsummer, file = \"/content/drive/Shareddrives/Digital-Agriculture/Data/groupsummer.csv\")"
      ]
    },
    {
      "cell_type": "code",
      "execution_count": null,
      "metadata": {
        "id": "4xjVvcnXTH5U"
      },
      "outputs": [],
      "source": [
        "%%R\n",
        "write_csv2(calveweightsandresiduals, file = \"/content/drive/Shareddrives/Digital-Agriculture/Data/calveweights.csv\")"
      ]
    }
  ],
  "metadata": {
    "colab": {
      "provenance": [],
      "toc_visible": true,
      "include_colab_link": true
    },
    "kernelspec": {
      "display_name": "Python 3",
      "name": "python3"
    },
    "language_info": {
      "name": "python"
    }
  },
  "nbformat": 4,
  "nbformat_minor": 0
}